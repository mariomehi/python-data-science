{
 "cells": [
  {
   "cell_type": "code",
   "execution_count": 1,
   "metadata": {},
   "outputs": [
    {
     "ename": "StopIteration",
     "evalue": "",
     "output_type": "error",
     "traceback": [
      "\u001b[1;31m---------------------------------------------------------------------------\u001b[0m",
      "\u001b[1;31mStopIteration\u001b[0m                             Traceback (most recent call last)",
      "\u001b[1;32m<ipython-input-1-c5ab5baad85d>\u001b[0m in \u001b[0;36m<module>\u001b[1;34m\u001b[0m\n\u001b[0;32m      9\u001b[0m \u001b[1;31m#scorro riga per riga i dati\u001b[0m\u001b[1;33m\u001b[0m\u001b[1;33m\u001b[0m\u001b[1;33m\u001b[0m\u001b[0m\n\u001b[0;32m     10\u001b[0m \u001b[1;32mwhile\u001b[0m\u001b[1;33m(\u001b[0m\u001b[1;36m1\u001b[0m\u001b[1;33m)\u001b[0m\u001b[1;33m:\u001b[0m\u001b[1;33m\u001b[0m\u001b[1;33m\u001b[0m\u001b[0m\n\u001b[1;32m---> 11\u001b[1;33m     \u001b[0mvalori\u001b[0m\u001b[1;33m=\u001b[0m \u001b[0mnext\u001b[0m\u001b[1;33m(\u001b[0m\u001b[0mdati_gen\u001b[0m\u001b[1;33m)\u001b[0m\u001b[1;33m.\u001b[0m\u001b[0msplit\u001b[0m\u001b[1;33m(\u001b[0m\u001b[1;34m\",\"\u001b[0m\u001b[1;33m)\u001b[0m\u001b[1;33m\u001b[0m\u001b[1;33m\u001b[0m\u001b[0m\n\u001b[0m\u001b[0;32m     12\u001b[0m     \u001b[0mmdict\u001b[0m\u001b[1;33m=\u001b[0m\u001b[0mdict\u001b[0m\u001b[1;33m(\u001b[0m\u001b[0mzip\u001b[0m\u001b[1;33m(\u001b[0m\u001b[0mcampi\u001b[0m\u001b[1;33m,\u001b[0m \u001b[0mvalori\u001b[0m\u001b[1;33m)\u001b[0m\u001b[1;33m)\u001b[0m\u001b[1;33m\u001b[0m\u001b[1;33m\u001b[0m\u001b[0m\n\u001b[0;32m     13\u001b[0m     \u001b[1;31m#aggiungo a ListDati solo le partite della World Cup per problemi di memoria di jupyter\u001b[0m\u001b[1;33m\u001b[0m\u001b[1;33m\u001b[0m\u001b[1;33m\u001b[0m\u001b[0m\n",
      "\u001b[1;31mStopIteration\u001b[0m: "
     ]
    }
   ],
   "source": [
    "# creo iteratore\n",
    "dati_gen=(row for row in open(\"results.csv\", encoding=\"utf8\"))\n",
    "\n",
    "#inizializzo liste che mi serviranno per convertire i record delle partite in una lista singola di dizionari (ListDati)\n",
    "campi = ['date', 'home_team', 'away_team', 'home_score', 'away_score', 'tournament', 'city', 'country', 'neutral']\n",
    "valori = []\n",
    "ListDati = []\n",
    "\n",
    "#scorro riga per riga i dati\n",
    "while(1):\n",
    "    valori= next(dati_gen).split(\",\")\n",
    "    mdict=dict(zip(campi, valori))\n",
    "    #aggiungo a ListDati solo le partite della World Cup per problemi di memoria di jupyter\n",
    "    if(mdict['tournament']=='FIFA World Cup'):\n",
    "        ListDati.append(mdict)\n",
    "    \n"
   ]
  },
  {
   "cell_type": "code",
   "execution_count": null,
   "metadata": {},
   "outputs": [],
   "source": [
    "#print(ListDati)"
   ]
  },
  {
   "cell_type": "code",
   "execution_count": 2,
   "metadata": {},
   "outputs": [
    {
     "data": {
      "text/plain": [
       "128"
      ]
     },
     "execution_count": 2,
     "metadata": {},
     "output_type": "execute_result"
    }
   ],
   "source": [
    "#calcolo Goal totali fatti dall'italia nelle partite della World Cup \n",
    "#senza itertools\n",
    "totGoal=0\n",
    "for x in ListDati:\n",
    "    if (x['home_team']=='Italy'):\n",
    "        totGoal+=int(x['home_score'])\n",
    "    if (x['away_team']=='Italy'):\n",
    "        totGoal+=int(x['away_score'])\n",
    "        \n",
    "totGoal"
   ]
  },
  {
   "cell_type": "code",
   "execution_count": 3,
   "metadata": {},
   "outputs": [
    {
     "data": {
      "text/plain": [
       "128"
      ]
     },
     "execution_count": 3,
     "metadata": {},
     "output_type": "execute_result"
    }
   ],
   "source": [
    "#calcolo Goal totali fatti dall'italia nelle partite della World Cup \n",
    "#con itertools\n",
    "import itertools\n",
    "import more_itertools\n",
    "import functools\n",
    "\n",
    "home_goals=[int(x['home_score']) for x in ListDati if x['home_team']=='Italy']\n",
    "away_goals=[int(x['away_score']) for x in ListDati if x['away_team']=='Italy']\n",
    "\n",
    "tot_goals=home_goals + away_goals\n",
    "\n",
    "tot_goal_it=list(itertools.accumulate(tot_goals))\n",
    "tot_goal_it.pop()        "
   ]
  },
  {
   "cell_type": "code",
   "execution_count": null,
   "metadata": {},
   "outputs": [],
   "source": []
  }
 ],
 "metadata": {
  "kernelspec": {
   "display_name": "Python 3",
   "language": "python",
   "name": "python3"
  },
  "language_info": {
   "codemirror_mode": {
    "name": "ipython",
    "version": 3
   },
   "file_extension": ".py",
   "mimetype": "text/x-python",
   "name": "python",
   "nbconvert_exporter": "python",
   "pygments_lexer": "ipython3",
   "version": "3.8.5"
  }
 },
 "nbformat": 4,
 "nbformat_minor": 4
}
